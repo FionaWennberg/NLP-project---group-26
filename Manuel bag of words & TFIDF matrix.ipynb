{
 "cells": [
  {
   "cell_type": "code",
   "execution_count": 2,
   "metadata": {},
   "outputs": [],
   "source": [
    "import numpy as np"
   ]
  },
  {
   "cell_type": "code",
   "execution_count": 26,
   "metadata": {},
   "outputs": [
    {
     "data": {
      "text/plain": [
       "array([[1., 0., 0., 0., 0., 0.],\n",
       "       [1., 0., 0., 0., 0., 0.],\n",
       "       [0., 0., 0., 0., 0., 1.],\n",
       "       [0., 1., 0., 0., 0., 0.]])"
      ]
     },
     "execution_count": 26,
     "metadata": {},
     "output_type": "execute_result"
    }
   ],
   "source": [
    "# Bag of words\n",
    "\n",
    "def koefficienter(tweet_list, unique_words):\n",
    "\n",
    "    M = np.empty((len(unique_words), len(tweet_list)))\n",
    "\n",
    "    for i in range(len(tweet_list)):\n",
    "        for j in range(len(unique_words)):\n",
    "\n",
    "            koef_count = tweet_list[i].count(unique_words[j])\n",
    "            \n",
    "            M[j,i] = koef_count\n",
    "    \n",
    "    return M\n",
    "\n",
    "# Example data\n",
    "tweet_list = [ \"s i h o u\", \"g t\", \"r\", \"k\", \"jj\", \"l h\"]\n",
    "\n",
    "unique_words = [\"i\", \"u\", \"l\", \"t\"]\n",
    "\n",
    "\n",
    "bag_of_words = koefficienter(tweet_list, unique_words)\n",
    "bag_of_words\n"
   ]
  },
  {
   "cell_type": "code",
   "execution_count": 25,
   "metadata": {},
   "outputs": [
    {
     "data": {
      "text/plain": [
       "array([[0, 0, 0, 0, 0, 0],\n",
       "       [0, 0, 0, 0, 0, 0],\n",
       "       [0, 0, 0, 0, 0, 1],\n",
       "       [0, 1, 0, 0, 0, 0]])"
      ]
     },
     "execution_count": 25,
     "metadata": {},
     "output_type": "execute_result"
    }
   ],
   "source": [
    "# TF-IDF (written with a little assistance from ChatGPT)\n",
    "import numpy as np\n",
    "import pandas as pd\n",
    "\n",
    "def construct_tfidf(matrix):\n",
    "\n",
    "    TFIDF = np.empty((len(unique_words), len(tweet_list)), dtype=int)\n",
    "\n",
    "    number_of_documents = len(tweet_list)\n",
    "\n",
    "    for j in range(len(unique_words)):\n",
    "        document_with_term = np.count_nonzero(matrix[j, :])\n",
    "\n",
    "        if document_with_term > 0:\n",
    "            term_idf = np.log(number_of_documents/document_with_term)\n",
    "        else:\n",
    "            term_idf = 0\n",
    "\n",
    "        for i in range(len(tweet_list)):\n",
    "            term_in_document = matrix[j,i]\n",
    "            total_number_of_terms = np.sum(matrix[:,i])\n",
    "\n",
    "            if total_number_of_terms > 0:\n",
    "                tf = term_in_document / total_number_of_terms\n",
    "\n",
    "            else:\n",
    "                tf = 0\n",
    "\n",
    "\n",
    "            TFIDF[j,i] = tf*term_idf\n",
    "\n",
    "    return TFIDF\n",
    "\n",
    "\n",
    "construct_tfidf(bag_of_words)"
   ]
  }
 ],
 "metadata": {
  "kernelspec": {
   "display_name": "base",
   "language": "python",
   "name": "python3"
  },
  "language_info": {
   "codemirror_mode": {
    "name": "ipython",
    "version": 3
   },
   "file_extension": ".py",
   "mimetype": "text/x-python",
   "name": "python",
   "nbconvert_exporter": "python",
   "pygments_lexer": "ipython3",
   "version": "3.11.9"
  }
 },
 "nbformat": 4,
 "nbformat_minor": 2
}
